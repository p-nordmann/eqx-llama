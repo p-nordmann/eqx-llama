{
 "cells": [
  {
   "cell_type": "markdown",
   "id": "1286b273",
   "metadata": {},
   "source": [
    "# Example training run\n",
    "\n",
    "In this notebook, we will run a simple training run of `eqx-llama` on the `TinyStories` dataset. We will use utf-8 codepoints as tokens for simplicity.\n"
   ]
  },
  {
   "cell_type": "markdown",
   "id": "3d97fde5",
   "metadata": {},
   "source": [
    "## Constants\n",
    "\n",
    "Let's set a few constants and hyper parameters."
   ]
  },
  {
   "cell_type": "code",
   "execution_count": 1,
   "id": "8fd2fe89",
   "metadata": {},
   "outputs": [],
   "source": [
    "batch_size = 10\n",
    "max_seq_len = 1_000  # See below why we choose this value\n",
    "seed = 0\n",
    "learning_rate = 3e-4\n",
    "weight_decay = 0.1\n",
    "evaluate_each = 10"
   ]
  },
  {
   "cell_type": "markdown",
   "id": "22da8c74",
   "metadata": {},
   "source": [
    "## Environment variables\n",
    "\n",
    "We set helpful environment variables:\n",
    "- `XLA_PYTHON_CLIENT_PREALLOCATE=false` prevents Jax from grabbing 75% of the GPU memory at once (useful to debug OOM).\n",
    "- `--xla_gpu_deterministic_ops=true` ensures XLA uses deterministic operations, which in turns makes the training runs reproducible."
   ]
  },
  {
   "cell_type": "code",
   "execution_count": 2,
   "id": "1961432d",
   "metadata": {},
   "outputs": [],
   "source": [
    "import os\n",
    "\n",
    "os.environ[\"XLA_PYTHON_CLIENT_PREALLOCATE\"] = \"false\"\n",
    "os.environ[\"XLA_FLAGS\"] = \"--xla_gpu_deterministic_ops=true\"\n",
    "os.environ[\"JAX_TRACEBACK_FILTERING\"] = \"off\""
   ]
  },
  {
   "cell_type": "markdown",
   "id": "a9519b02",
   "metadata": {},
   "source": [
    "## Data loading\n",
    "\n",
    "We will use tiny stories from the huggingface hub."
   ]
  },
  {
   "cell_type": "code",
   "execution_count": 3,
   "id": "ab4bfb5c",
   "metadata": {},
   "outputs": [
    {
     "name": "stdout",
     "output_type": "stream",
     "text": [
      "*** Example 1\n",
      "One day, a little girl named Lily found a needle in her room. She knew it was difficult to play with it because it was sharp. Lily wanted to share the needle with her mom, so she could sew a button on her shirt.\n",
      "\n",
      "Lily went to her mom and said, \"Mom, I found this needle. Can you share it with me and sew my shirt?\" Her mom smiled and said, \"Yes, Lily, we can share the needle and fix your shirt.\"\n",
      "\n",
      "Together, they shared the needle and sewed the button on Lily's shirt. It was not difficult for them because they were sharing and helping each other. After they finished, Lily thanked her mom for sharing the needle and fixing her shirt. They both felt happy because they had shared and worked together.\n",
      "***\n",
      "\n",
      "*** Example 2\n",
      "Once upon a time, there was a little car named Beep. Beep loved to go fast and play in the sun. Beep was a healthy car because he always had good fuel. Good fuel made Beep happy and strong.\n",
      "\n",
      "One day, Beep was driving in the park when he saw a big tree. The tree had many leaves that were falling. Beep liked how the leaves fall and wanted to play with them. Beep drove under the tree and watched the leaves fall on him. He laughed and beeped his horn.\n",
      "\n",
      "Beep played with the falling leaves all day. When it was time to go home, Beep knew he needed more fuel. He went to the fuel place and got more healthy fuel. Now, Beep was ready to go fast and play again the next day. And Beep lived happily ever after.\n",
      "***\n",
      "\n"
     ]
    }
   ],
   "source": [
    "from datasets import load_dataset\n",
    "\n",
    "ds = load_dataset(\n",
    "    \"roneneldan/TinyStories\",\n",
    "    trust_remote_code=False,\n",
    "    streaming=True,\n",
    "    download_mode=\"force_redownload\",\n",
    ")\n",
    "\n",
    "# Let's vizualize a few examples to make sure everything's alright.\n",
    "for example, i in zip(ds[\"train\"], range(1, 3)):\n",
    "    print(f\"*** Example {i}\")\n",
    "    print(example[\"text\"])\n",
    "    print(\"***\\n\")"
   ]
  },
  {
   "cell_type": "markdown",
   "id": "a81b1089",
   "metadata": {},
   "source": [
    "Let's look at the data: what is an appropriate sequence length to use for training? From the histogram below, 1000 seems like a reasonable value; it leaves us with a lot of examples to learn from. We will filter out examples that are longer and pad those that are shorter."
   ]
  },
  {
   "cell_type": "code",
   "execution_count": 4,
   "id": "ab1f263f",
   "metadata": {},
   "outputs": [
    {
     "data": {
      "image/png": "[encoded data removed]",
      "text/plain": [
       "<Figure size 640x480 with 1 Axes>"
      ]
     },
     "metadata": {},
     "output_type": "display_data"
    }
   ],
   "source": [
    "import matplotlib.pyplot as plt\n",
    "\n",
    "lens = []\n",
    "for example, i in zip(ds[\"train\"], range(10_000)):\n",
    "    lens.append(len(example[\"text\"].encode(\"utf-8\")))\n",
    "\n",
    "plt.hist(lens, bins=50)\n",
    "plt.show()"
   ]
  },
  {
   "cell_type": "markdown",
   "id": "04459476",
   "metadata": {},
   "source": [
    "For this example, using the datasets without extra dataloading is enough."
   ]
  },
  {
   "cell_type": "code",
   "execution_count": 5,
   "id": "7c5850be",
   "metadata": {},
   "outputs": [],
   "source": [
    "import numpy as np\n",
    "\n",
    "\n",
    "def prepare_example(inputs):\n",
    "    batch = np.zeros((batch_size, max_seq_len), dtype=int)\n",
    "    for i, s in enumerate(inputs):\n",
    "        batch[i, : len(s)] = s\n",
    "    return batch\n",
    "\n",
    "\n",
    "ds_train = (\n",
    "    ds[\"train\"]\n",
    "    .map(lambda ex: {\"input\": list(ex[\"text\"].encode(\"utf-8\"))})\n",
    "    .map(lambda ex: {\"len\": len(ex[\"input\"])})\n",
    "    .filter(lambda ex: ex[\"len\"] <= max_seq_len)\n",
    "    .shuffle(seed=seed)\n",
    "    .batch(batch_size, drop_last_batch=True)\n",
    "    .map(\n",
    "        lambda ex: ex\n",
    "        | {\n",
    "            \"input\": prepare_example(ex[\"input\"]),\n",
    "            \"len\": np.array(ex[\"len\"], dtype=int),\n",
    "        }\n",
    "    )\n",
    ")\n",
    "\n",
    "ds_validation = (\n",
    "    ds[\"validation\"]\n",
    "    .map(lambda ex: {\"input\": list(ex[\"text\"].encode(\"utf-8\"))})\n",
    "    .map(lambda ex: {\"len\": len(ex[\"input\"])})\n",
    "    .filter(lambda ex: len(ex[\"input\"]) <= max_seq_len)\n",
    "    .shuffle(seed=seed)\n",
    "    .batch(batch_size, drop_last_batch=True)\n",
    "    .map(\n",
    "        lambda ex: ex\n",
    "        | {\n",
    "            \"input\": prepare_example(ex[\"input\"]),\n",
    "            \"len\": np.array(ex[\"len\"], dtype=int),\n",
    "        }\n",
    "    )\n",
    "    .repeat(2)\n",
    ")"
   ]
  },
  {
   "cell_type": "markdown",
   "id": "767807e6",
   "metadata": {},
   "source": [
    "## Model\n",
    "\n",
    "Let's prepare the model! 🦙"
   ]
  },
  {
   "cell_type": "code",
   "execution_count": 6,
   "id": "f722a6c2",
   "metadata": {},
   "outputs": [],
   "source": [
    "# A bunch of imports for what follows\n",
    "\n",
    "import math\n",
    "\n",
    "import equinox as eqx\n",
    "import jax\n",
    "import jax.numpy as jnp\n",
    "\n",
    "from eqx_llama import KVCache, LLaMA, LLaMAConfig"
   ]
  },
  {
   "cell_type": "code",
   "execution_count": 7,
   "id": "c4c713df",
   "metadata": {},
   "outputs": [],
   "source": [
    "key = jax.random.PRNGKey(seed)\n",
    "key, key_model = jax.random.split(key)\n",
    "\n",
    "config = LLaMAConfig(\n",
    "    num_layers=4,\n",
    "    vocab_size=256,  # As we use utf-8 codepoints\n",
    "    layer_dim=128,\n",
    "    attention_num_heads=8,\n",
    "    attention_head_dim=16,\n",
    "    feed_forward_dim=512,\n",
    ")\n",
    "model = LLaMA(config=config, key=key_model, dtype=\"float32\")\n",
    "cache = KVCache()\n"
   ]
  },
  {
   "cell_type": "markdown",
   "id": "477af205",
   "metadata": {},
   "source": [
    "Let's count the params for our language model. We see that we are slightly above 1M params, which should give use enough room to learn some language basics."
   ]
  },
  {
   "cell_type": "code",
   "execution_count": 8,
   "id": "8696e203",
   "metadata": {},
   "outputs": [
    {
     "name": "stdout",
     "output_type": "stream",
     "text": [
      "Number of params: 1115264\n"
     ]
    }
   ],
   "source": [
    "def count_params(tree):\n",
    "    array_tree = eqx.filter(tree, eqx.is_array)\n",
    "    param_counts_tree = jax.tree.map(lambda arr: math.prod(arr.shape), array_tree)\n",
    "    return jax.tree.reduce(lambda count, x: count + x, param_counts_tree)\n",
    "\n",
    "\n",
    "print(\"Number of params:\", count_params(model))"
   ]
  },
  {
   "cell_type": "markdown",
   "id": "fb1a5048",
   "metadata": {},
   "source": [
    "## Optimizer\n",
    "\n",
    "For the optimizer we will rely on optax and use AdamW."
   ]
  },
  {
   "cell_type": "code",
   "execution_count": 9,
   "id": "31efc5a0",
   "metadata": {},
   "outputs": [],
   "source": [
    "import optax\n",
    "\n",
    "opt = optax.adamw(learning_rate=learning_rate, weight_decay=weight_decay)\n",
    "opt_state = opt.init(eqx.filter(model, eqx.is_inexact_array))"
   ]
  },
  {
   "cell_type": "markdown",
   "id": "1febb952",
   "metadata": {},
   "source": [
    "## Training functions\n",
    "\n",
    "In this part we write the functions necessary for the training loop. Nothing very special. For the loss we will use a per-token softmax-cross-entropy loss."
   ]
  },
  {
   "cell_type": "code",
   "execution_count": 10,
   "id": "f1172a8a",
   "metadata": {},
   "outputs": [],
   "source": [
    "def _forward(model, inputs, cache):\n",
    "    return model(\n",
    "        inputs,\n",
    "        cache,\n",
    "        attn_implementation=\"xla\",  # There is currently an issue with the cudnn implementation\n",
    "    )\n",
    "\n",
    "\n",
    "# @eqx.filter_jit\n",
    "def compute_loss(model, cache, inputs, lens):\n",
    "    # Compute the loss for each logit.\n",
    "    (logits, _) = jax.vmap(_forward, axis_name=\"batch\", in_axes=[None, 0, None])(\n",
    "        model, inputs, cache\n",
    "    )\n",
    "    logit_losses = optax.losses.softmax_cross_entropy_with_integer_labels(\n",
    "        logits[:, :-1], inputs[:, 1:]\n",
    "    )\n",
    "\n",
    "    # Zero out the out-of-bounds logits.\n",
    "    mask = jnp.arange(0, max_seq_len - 1) < lens[:, None] - 1\n",
    "    logit_losses = jnp.where(mask, logit_losses, 0)\n",
    "\n",
    "    # Average over the number of actual logits.\n",
    "    num_logits = jnp.sum(lens - 1)\n",
    "\n",
    "    return jnp.sum(logit_losses) / num_logits\n",
    "\n",
    "\n",
    "@eqx.filter_jit\n",
    "def make_step(model, cache, opt_state, inputs, lens):\n",
    "    loss, grads = eqx.filter_value_and_grad(compute_loss)(model, cache, inputs, lens)\n",
    "    updates, opt_state = opt.update(grads, opt_state, model)\n",
    "    model = eqx.apply_updates(model, updates)\n",
    "    return model, opt_state, loss\n",
    "\n",
    "\n",
    "@eqx.filter_jit\n",
    "def make_eval_step(model, cache, inputs, lens):\n",
    "    return compute_loss(model, cache, inputs, lens)"
   ]
  },
  {
   "cell_type": "markdown",
   "id": "e367c002",
   "metadata": {},
   "source": [
    "## Training loop\n",
    "\n",
    "Now we can run the training and evaluate the model. We will do a limited number of steps for the example."
   ]
  },
  {
   "cell_type": "code",
   "execution_count": 11,
   "id": "5c775bcf",
   "metadata": {},
   "outputs": [
    {
     "name": "stderr",
     "output_type": "stream",
     "text": [
      "20000it [14:12, 23.46it/s]\n"
     ]
    }
   ],
   "source": [
    "from tqdm import tqdm\n",
    "\n",
    "cache = KVCache()\n",
    "\n",
    "iter_validation = iter(ds_validation)\n",
    "\n",
    "training_losses = []\n",
    "validation_losses = []\n",
    "\n",
    "max_steps = 20_000  # ~100M tokens\n",
    "\n",
    "for step, batch in tqdm(enumerate(ds_train)):\n",
    "    if step >= max_steps:\n",
    "        break\n",
    "\n",
    "    if step % evaluate_each == 0:\n",
    "        batch_validation = next(iter_validation)\n",
    "        inputs, lens = batch_validation[\"input\"], batch_validation[\"len\"]\n",
    "        loss = make_eval_step(model, cache, inputs, lens)\n",
    "        validation_losses.append((step, loss.item()))\n",
    "\n",
    "    inputs, lens = batch[\"input\"], batch[\"len\"]\n",
    "    model, opt_state, loss = make_step(model, cache, opt_state, inputs, lens)\n",
    "    training_losses.append((step, loss.item()))\n"
   ]
  },
  {
   "cell_type": "code",
   "execution_count": 12,
   "id": "47687d24",
   "metadata": {},
   "outputs": [
    {
     "data": {
      "image/png": "[encoded data removed]",
      "text/plain": [
       "<Figure size 640x480 with 1 Axes>"
      ]
     },
     "metadata": {},
     "output_type": "display_data"
    }
   ],
   "source": [
    "plt.plot(\n",
    "    list(map(lambda x: x[0], training_losses)),\n",
    "    list(map(lambda x: x[1], training_losses)),\n",
    "    label=\"Training\",\n",
    ")\n",
    "plt.plot(\n",
    "    list(map(lambda x: x[0], validation_losses)),\n",
    "    list(map(lambda x: x[1], validation_losses)),\n",
    "    label=\"Validation\",\n",
    ")\n",
    "plt.title(\"Cross-entropy loss\")\n",
    "plt.xlabel(\"Step\")\n",
    "plt.ylabel(\"Loss\")\n",
    "plt.legend()\n",
    "plt.show()"
   ]
  },
  {
   "cell_type": "markdown",
   "id": "4243e6c4",
   "metadata": {},
   "source": [
    "## Generating some text\n",
    "\n",
    "Let's see what we got!"
   ]
  },
  {
   "cell_type": "code",
   "execution_count": 13,
   "id": "301c8806",
   "metadata": {},
   "outputs": [
    {
     "name": "stderr",
     "output_type": "stream",
     "text": [
      "100%|██████████| 60/60 [00:40<00:00,  1.48it/s]\n"
     ]
    }
   ],
   "source": [
    "context = jnp.array(list(\"Once upon a time,\".encode(\"utf-8\")), dtype=int)\n",
    "generated = jnp.array([], dtype=int)\n",
    "cache = KVCache()\n",
    "\n",
    "temperature = 1.0\n",
    "\n",
    "for k in tqdm(range(60)):\n",
    "    key, key_random = jax.random.split(key)\n",
    "\n",
    "    input = generated[-1:] if generated.shape[0] > 0 else context\n",
    "    logits, cache = model(input, cache)\n",
    "\n",
    "    token = jax.random.categorical(key_random, logits[-1] / temperature)\n",
    "    generated = jnp.concat([generated, token[None]])\n"
   ]
  },
  {
   "cell_type": "code",
   "execution_count": 14,
   "id": "41a3da0b",
   "metadata": {},
   "outputs": [
    {
     "name": "stdout",
     "output_type": "stream",
     "text": [
      "Once upon a time, nnnlnnnnc lnnnn nnnnnc nnnn ncnnncnncednnncnnncnnennrncnn n\n"
     ]
    }
   ],
   "source": [
    "def decode(tokens):\n",
    "    cpu_tokens = np.array(tokens.astype(\"uint8\"))\n",
    "    return bytes(cpu_tokens).decode(\"utf-8\", errors=\"ignore\")\n",
    "\n",
    "\n",
    "print(decode(context) + decode(generated))"
   ]
  }
 ],
 "metadata": {
  "kernelspec": {
   "display_name": "eqx-llama",
   "language": "python",
   "name": "python3"
  },
  "language_info": {
   "codemirror_mode": {
    "name": "ipython",
    "version": 3
   },
   "file_extension": ".py",
   "mimetype": "text/x-python",
   "name": "python",
   "nbconvert_exporter": "python",
   "pygments_lexer": "ipython3",
   "version": "3.10.16"
  }
 },
 "nbformat": 4,
 "nbformat_minor": 5
}
